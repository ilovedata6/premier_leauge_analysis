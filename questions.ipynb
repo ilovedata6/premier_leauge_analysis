{
 "cells": [
  {
   "cell_type": "code",
   "execution_count": 1,
   "metadata": {},
   "outputs": [],
   "source": [
    "# EDA Questions for English Premier League Match Dataset:\n",
    "\n",
    "# Match Outcome and Teams:\n",
    "# 1. How many matches were played in each season?\n",
    "# 2. Which teams were involved in the most matches?\n",
    "# 3. What is the distribution of full-time home goals (FTHG) and away goals (FTAG)?\n",
    "# 4. How many matches ended in a home win (FTR = 'H'), away win (FTR = 'A'), or draw (FTR = 'D')?\n",
    "\n",
    "# Half-Time Analysis:\n",
    "# 5. What is the distribution of half-time home goals (HTHG) and away goals (HTAG)?\n",
    "# 6. How does the half-time result (HTR) correlate with the full-time result (FTR)?\n",
    "\n",
    "# Referees and Fair Play:\n",
    "# 7. Who are the most frequent referees and how do they impact match outcomes?\n",
    "# 8. Are there any trends between the number of yellow cards (HY, AY) and red cards (HR, AR) received by teams and match results?\n",
    "\n",
    "# Team Performance and Statistics:\n",
    "# 9. What is the average number of shots (HS, AS) per match for home and away teams?\n",
    "# 10. How does the distribution of shots on target (HST, AST) vary across different teams?\n",
    "# 11. Are there any relationships between the number of corners (HC, AC) and match outcomes?\n",
    "\n",
    "# Foul Analysis:\n",
    "# 12. Is there a correlation between the number of fouls committed (HF, AF) by a team and their match result?\n",
    "# 13. Are there teams with a higher number of yellow cards (HY, AY) that tend to lose more matches?\n",
    "\n",
    "# Goal Distribution:\n",
    "# 14. How many matches had a certain number of goals (FTHG + FTAG)? Plot a histogram.\n",
    "# 15. Are there matches where the half-time goals (HTHG + HTAG) were significantly different from full-time goals?\n",
    "\n",
    "# Home Advantage:\n",
    "# 16. Is there a consistent home advantage? Compare the number of home wins to away wins.\n",
    "\n",
    "# Fair Play and Card Distribution:\n",
    "# 17. How does the distribution of yellow and red cards differ between home and away teams?\n",
    "\n",
    "# Time of Goals:\n",
    "# 18. What is the distribution of goals scored during different time periods (e.g., 1st half, 2nd half, extra time)?\n",
    "\n",
    "# Correlation Between Statistics:\n",
    "# 19. Is there a relationship between the number of shots on target and the number of goals scored?\n",
    "# 20. Are teams that commit fewer fouls more likely to win matches?\n",
    "\n",
    "# Referee Influence on Cards:\n",
    "# 21. Do certain referees show more cards (yellow and red) compared to others?\n",
    "\n",
    "# Shot Efficiency:\n",
    "# 22. Which teams have the highest shot conversion rates (goals per shots on target)?\n"
   ]
  },
  {
   "cell_type": "code",
   "execution_count": null,
   "metadata": {},
   "outputs": [],
   "source": []
  }
 ],
 "metadata": {
  "kernelspec": {
   "display_name": "Python 3",
   "language": "python",
   "name": "python3"
  },
  "language_info": {
   "codemirror_mode": {
    "name": "ipython",
    "version": 3
   },
   "file_extension": ".py",
   "mimetype": "text/x-python",
   "name": "python",
   "nbconvert_exporter": "python",
   "pygments_lexer": "ipython3",
   "version": "3.11.4"
  },
  "orig_nbformat": 4
 },
 "nbformat": 4,
 "nbformat_minor": 2
}
